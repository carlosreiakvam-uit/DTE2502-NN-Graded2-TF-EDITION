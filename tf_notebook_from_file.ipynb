{
 "cells": [
  {
   "cell_type": "code",
   "execution_count": 1,
   "outputs": [
    {
     "name": "stderr",
     "output_type": "stream",
     "text": [
      "C:\\Users\\carlo\\miniconda3\\envs\\graded_2_pytorch\\lib\\site-packages\\tensorflow\\python\\framework\\dtypes.py:516: FutureWarning: Passing (type, 1) or '1type' as a synonym of type is deprecated; in a future version of numpy, it will be understood as (type, (1,)) / '(1,)type'.\n",
      "  _np_qint8 = np.dtype([(\"qint8\", np.int8, 1)])\n",
      "C:\\Users\\carlo\\miniconda3\\envs\\graded_2_pytorch\\lib\\site-packages\\tensorflow\\python\\framework\\dtypes.py:517: FutureWarning: Passing (type, 1) or '1type' as a synonym of type is deprecated; in a future version of numpy, it will be understood as (type, (1,)) / '(1,)type'.\n",
      "  _np_quint8 = np.dtype([(\"quint8\", np.uint8, 1)])\n",
      "C:\\Users\\carlo\\miniconda3\\envs\\graded_2_pytorch\\lib\\site-packages\\tensorflow\\python\\framework\\dtypes.py:518: FutureWarning: Passing (type, 1) or '1type' as a synonym of type is deprecated; in a future version of numpy, it will be understood as (type, (1,)) / '(1,)type'.\n",
      "  _np_qint16 = np.dtype([(\"qint16\", np.int16, 1)])\n",
      "C:\\Users\\carlo\\miniconda3\\envs\\graded_2_pytorch\\lib\\site-packages\\tensorflow\\python\\framework\\dtypes.py:519: FutureWarning: Passing (type, 1) or '1type' as a synonym of type is deprecated; in a future version of numpy, it will be understood as (type, (1,)) / '(1,)type'.\n",
      "  _np_quint16 = np.dtype([(\"quint16\", np.uint16, 1)])\n",
      "C:\\Users\\carlo\\miniconda3\\envs\\graded_2_pytorch\\lib\\site-packages\\tensorflow\\python\\framework\\dtypes.py:520: FutureWarning: Passing (type, 1) or '1type' as a synonym of type is deprecated; in a future version of numpy, it will be understood as (type, (1,)) / '(1,)type'.\n",
      "  _np_qint32 = np.dtype([(\"qint32\", np.int32, 1)])\n",
      "C:\\Users\\carlo\\miniconda3\\envs\\graded_2_pytorch\\lib\\site-packages\\tensorflow\\python\\framework\\dtypes.py:525: FutureWarning: Passing (type, 1) or '1type' as a synonym of type is deprecated; in a future version of numpy, it will be understood as (type, (1,)) / '(1,)type'.\n",
      "  np_resource = np.dtype([(\"resource\", np.ubyte, 1)])\n",
      "C:\\Users\\carlo\\miniconda3\\envs\\graded_2_pytorch\\lib\\site-packages\\tensorboard\\compat\\tensorflow_stub\\dtypes.py:541: FutureWarning: Passing (type, 1) or '1type' as a synonym of type is deprecated; in a future version of numpy, it will be understood as (type, (1,)) / '(1,)type'.\n",
      "  _np_qint8 = np.dtype([(\"qint8\", np.int8, 1)])\n",
      "C:\\Users\\carlo\\miniconda3\\envs\\graded_2_pytorch\\lib\\site-packages\\tensorboard\\compat\\tensorflow_stub\\dtypes.py:542: FutureWarning: Passing (type, 1) or '1type' as a synonym of type is deprecated; in a future version of numpy, it will be understood as (type, (1,)) / '(1,)type'.\n",
      "  _np_quint8 = np.dtype([(\"quint8\", np.uint8, 1)])\n",
      "C:\\Users\\carlo\\miniconda3\\envs\\graded_2_pytorch\\lib\\site-packages\\tensorboard\\compat\\tensorflow_stub\\dtypes.py:543: FutureWarning: Passing (type, 1) or '1type' as a synonym of type is deprecated; in a future version of numpy, it will be understood as (type, (1,)) / '(1,)type'.\n",
      "  _np_qint16 = np.dtype([(\"qint16\", np.int16, 1)])\n",
      "C:\\Users\\carlo\\miniconda3\\envs\\graded_2_pytorch\\lib\\site-packages\\tensorboard\\compat\\tensorflow_stub\\dtypes.py:544: FutureWarning: Passing (type, 1) or '1type' as a synonym of type is deprecated; in a future version of numpy, it will be understood as (type, (1,)) / '(1,)type'.\n",
      "  _np_quint16 = np.dtype([(\"quint16\", np.uint16, 1)])\n",
      "C:\\Users\\carlo\\miniconda3\\envs\\graded_2_pytorch\\lib\\site-packages\\tensorboard\\compat\\tensorflow_stub\\dtypes.py:545: FutureWarning: Passing (type, 1) or '1type' as a synonym of type is deprecated; in a future version of numpy, it will be understood as (type, (1,)) / '(1,)type'.\n",
      "  _np_qint32 = np.dtype([(\"qint32\", np.int32, 1)])\n",
      "C:\\Users\\carlo\\miniconda3\\envs\\graded_2_pytorch\\lib\\site-packages\\tensorboard\\compat\\tensorflow_stub\\dtypes.py:550: FutureWarning: Passing (type, 1) or '1type' as a synonym of type is deprecated; in a future version of numpy, it will be understood as (type, (1,)) / '(1,)type'.\n",
      "  np_resource = np.dtype([(\"resource\", np.ubyte, 1)])\n"
     ]
    }
   ],
   "source": [
    "import json\n",
    "from tqdm import tqdm\n",
    "import time\n",
    "from utils import play_game2\n",
    "import numpy as np\n",
    "import tensorflow as tf\n",
    "from tensorflow.keras.models import Sequential\n",
    "from tensorflow.keras.optimizers import RMSprop\n",
    "from tensorflow.keras.layers import Input, Conv2D, Flatten, Dense\n",
    "from tensorflow.keras import Model\n",
    "from agents.DeepQLearningAgent import DeepQLearningAgent\n",
    "from agents.agent import mean_huber_loss\n",
    "from game_environment import SnakeNumpy"
   ],
   "metadata": {
    "collapsed": false
   }
  },
  {
   "cell_type": "code",
   "execution_count": 2,
   "outputs": [],
   "source": [
    "# Parameters as from the config file of v17.1\n",
    "version = 'v17.1'\n",
    "board_size = 10\n",
    "n_actions = 4\n",
    "frames = 2\n",
    "supervised = False\n",
    "obstacles = False\n",
    "max_time_limit = 998\n",
    "buffer_size = 80000\n",
    "frame_mode = True"
   ],
   "metadata": {
    "collapsed": false
   }
  },
  {
   "cell_type": "code",
   "execution_count": 11,
   "outputs": [],
   "source": [
    "agent = DeepQLearningAgent(\n",
    "    board_size=board_size, frames=frames, buffer_size=buffer_size, n_actions=n_actions,\n",
    "    version=version)\n",
    "agent._agent_model().summary()"
   ],
   "metadata": {
    "collapsed": false
   }
  },
  {
   "cell_type": "code",
   "execution_count": 8,
   "outputs": [],
   "source": [
    "# some more funny parameters\n",
    "epsilon, epsilon_end = 1, 0.01\n",
    "reward_type = 'current'\n",
    "sample_actions = False\n",
    "n_games_training = 8 * 16\n",
    "games_eval = 8\n",
    "decay = 0.97\n",
    "episodes = 1 * (10 ** 3)\n",
    "log_frequency = 250"
   ],
   "metadata": {
    "collapsed": false
   }
  },
  {
   "cell_type": "code",
   "execution_count": 9,
   "outputs": [
    {
     "name": "stdout",
     "output_type": "stream",
     "text": [
      "Playing 32768 frames took 0.80s\n"
     ]
    }
   ],
   "source": [
    "# play some games to fill buffer\n",
    "games = 512\n",
    "env = SnakeNumpy(board_size=board_size, frames=frames,\n",
    "                 max_time_limit=max_time_limit, games=games,\n",
    "                 frame_mode=True, obstacles=obstacles, version=version)\n",
    "ct = time.time()\n",
    "_ = play_game2(env, agent, n_actions, n_games=games, record=True,\n",
    "               epsilon=epsilon, verbose=True, reset_seed=False,\n",
    "               frame_mode=True, total_frames=games * 64)\n",
    "print('Playing {:d} frames took {:.2f}s'.format(games * 64, time.time() - ct))"
   ],
   "metadata": {
    "collapsed": false
   }
  },
  {
   "cell_type": "code",
   "execution_count": 10,
   "outputs": [],
   "source": [
    "env = SnakeNumpy(board_size=board_size, frames=frames,\n",
    "                 max_time_limit=max_time_limit, games=n_games_training,\n",
    "                 frame_mode=True, obstacles=obstacles, version=version)\n",
    "env2 = SnakeNumpy(board_size=board_size, frames=frames,\n",
    "                  max_time_limit=max_time_limit, games=games_eval,\n",
    "                  frame_mode=True, obstacles=obstacles, version=version)"
   ],
   "metadata": {
    "collapsed": false
   }
  },
  {
   "cell_type": "code",
   "execution_count": 82,
   "outputs": [
    {
     "name": "stderr",
     "output_type": "stream",
     "text": [
      "100%|██████████| 1000/1000 [00:21<00:00, 46.18it/s]\n"
     ]
    }
   ],
   "source": [
    "# training loop\n",
    "model_logs = {'iteration': [], 'reward_mean': [],\n",
    "              'length_mean': [], 'games': [], 'loss': []}\n",
    "\n",
    "for index in tqdm(range(episodes)):\n",
    "    # make small changes to the buffer and slowly train\n",
    "    _, _, _ = play_game2(env, agent, n_actions, epsilon=epsilon,\n",
    "                         n_games=n_games_training, record=True,\n",
    "                         sample_actions=sample_actions, reward_type=reward_type,\n",
    "                         frame_mode=True, total_frames=n_games_training,\n",
    "                         stateful=True)\n",
    "\n",
    "    loss = agent.train_agent(batch_size=64,\n",
    "                             num_games=n_games_training, reward_clip=True)\n",
    "\n",
    "    if (index + 1) % log_frequency == 0:\n",
    "        agent.update_target_net()\n",
    "        agent.save_model(file_path='models/{:s}'.format(version), iteration=(index + 1))\n",
    "\n",
    "        # keep some epsilon alive for training\n",
    "        epsilon = max(epsilon * decay, epsilon_end)\n"
   ],
   "metadata": {
    "collapsed": false
   }
  },
  {
   "cell_type": "code",
   "execution_count": null,
   "outputs": [],
   "source": [],
   "metadata": {
    "collapsed": false
   }
  }
 ],
 "metadata": {
  "kernelspec": {
   "display_name": "Python 3",
   "language": "python",
   "name": "python3"
  },
  "language_info": {
   "codemirror_mode": {
    "name": "ipython",
    "version": 2
   },
   "file_extension": ".py",
   "mimetype": "text/x-python",
   "name": "python",
   "nbconvert_exporter": "python",
   "pygments_lexer": "ipython2",
   "version": "2.7.6"
  }
 },
 "nbformat": 4,
 "nbformat_minor": 0
}
